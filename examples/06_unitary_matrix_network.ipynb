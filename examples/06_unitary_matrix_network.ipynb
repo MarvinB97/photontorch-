{
 "cells": [
  {
   "cell_type": "markdown",
   "metadata": {},
   "source": [
    "# Photonic Matrices"
   ]
  },
  {
   "cell_type": "markdown",
   "metadata": {},
   "source": [
    "## Imports"
   ]
  },
  {
   "cell_type": "code",
   "execution_count": null,
   "metadata": {},
   "outputs": [],
   "source": [
    "# standard library\n",
    "from copy import copy, deepcopy\n",
    "from collections import OrderedDict\n",
    "\n",
    "# photontorch\n",
    "import torch\n",
    "import photontorch as pt\n",
    "\n",
    "# other\n",
    "import numpy as np\n",
    "from tqdm import trange\n",
    "import matplotlib.pyplot as plt"
   ]
  },
  {
   "cell_type": "markdown",
   "metadata": {},
   "source": [
    "## Settings"
   ]
  },
  {
   "cell_type": "code",
   "execution_count": null,
   "metadata": {},
   "outputs": [],
   "source": [
    "%matplotlib inline\n",
    "DEVICE = 'cpu'\n",
    "np.random.seed(0)\n",
    "torch.manual_seed(0)\n",
    "np.set_printoptions(precision=2, suppress=True)\n",
    "env = pt.Environment(use_delays=False, num_timesteps=1, enable_grad=True)\n",
    "pt.set_environment(env);"
   ]
  },
  {
   "cell_type": "markdown",
   "metadata": {},
   "source": [
    "## Unitary Matrices"
   ]
  },
  {
   "cell_type": "markdown",
   "metadata": {},
   "source": [
    "A unitary matrix is a matrix $U$ for which\n",
    "\\begin{align*}\n",
    "U\\cdot U^\\dagger = U^\\dagger \\cdot U = I\n",
    "\\end{align*}\n",
    "\n",
    "A unitary matrix is easily implemented in photonics. Indeed, according to the paper *\"[Experimental Realization of Any Discrete Unitary Matrix](https://journals.aps.org/prl/abstract/10.1103/PhysRevLett.73.58)\"* by Reck et. al., Any unitary matrix can be written as a combination of phase shifters and directional couplers with variable coupling (or MZI's) (Figure (a))\n",
    "\n",
    "However, there exists an alternative approach to achieve any unitary operation, first proposed by Clements et. al. : [Optimal design for universal multiport interferometers](https://www.osapublishing.org/optica/abstract.cfm?uri=optica-3-12-1460) (Figure (b))\n",
    "\n",
    "![Unitary Matrix Paper](images/clements.jpeg)\n"
   ]
  },
  {
   "cell_type": "markdown",
   "metadata": {},
   "source": [
    "## 2x2 Unitary matrix (Reck)"
   ]
  },
  {
   "cell_type": "markdown",
   "metadata": {},
   "source": [
    "### Functions"
   ]
  },
  {
   "cell_type": "code",
   "execution_count": null,
   "metadata": {},
   "outputs": [],
   "source": [
    "def array(tensor):\n",
    "    arr = tensor.data.cpu().numpy()\n",
    "    if arr.shape[0] == 2:\n",
    "        arr = arr[0] + 1j * arr[1]\n",
    "    return arr\n",
    "\n",
    "def tensor(array):\n",
    "    if array.dtype == np.complex64 or array.dtype == np.complex128:\n",
    "        array = np.stack([np.real(array), np.imag(array)])\n",
    "    return torch.tensor(array, dtype=torch.get_default_dtype(), device=DEVICE)\n",
    "\n",
    "def rand_phase():\n",
    "    return float(2*np.pi*np.random.rand())\n",
    "\n",
    "class Network(pt.Network):\n",
    "    def handle_source(self, matrix, **kwargs):\n",
    "        expanded_matrix = matrix[:,None,None,:,:]\n",
    "        a,b,c,d,e = expanded_matrix.shape\n",
    "        expanded_matrix = torch.cat([\n",
    "            expanded_matrix,\n",
    "            torch.zeros((a,b,c,self.nmc-d,e), device=expanded_matrix.device),\n",
    "        ], -2)\n",
    "        return expanded_matrix\n",
    "    def forward(self, matrix):\n",
    "        ''' matrix shape = (2, num_sources, num_sources)'''\n",
    "        result = super(Network, self).forward(matrix, power=False)\n",
    "        return result[:,0,0,:,:]\n",
    "    def count_params(self):\n",
    "        num_params = 0\n",
    "        for p in self.parameters():\n",
    "            num_params += int(np.prod(p.shape))\n",
    "        return num_params\n",
    "\n",
    "def unitary_matrix(m,n):\n",
    "    real_part = np.random.rand(m,n)\n",
    "    imag_part = np.random.rand(m,n)\n",
    "    complex_matrix = real_part + 1j*imag_part\n",
    "    if m >= n:\n",
    "        unitary_matrix, _, _ = np.linalg.svd(complex_matrix, full_matrices = False)\n",
    "    else:\n",
    "        _, _, unitary_matrix = np.linalg.svd(complex_matrix, full_matrices = False)\n",
    "    return unitary_matrix"
   ]
  },
  {
   "cell_type": "markdown",
   "metadata": {},
   "source": [
    "### Define Network"
   ]
  },
  {
   "cell_type": "code",
   "execution_count": null,
   "metadata": {},
   "outputs": [],
   "source": [
    "nw2x2 = Network(\n",
    "    components = {\n",
    "        's1':pt.Source(),\n",
    "        's2':pt.Source(),\n",
    "        'd1':pt.Detector(),\n",
    "        'd2':pt.Detector(),\n",
    "        'mzi':pt.Mzi(length=0, phi=rand_phase(), theta=rand_phase(), trainable=True),\n",
    "        'wg1':pt.Waveguide(length=0, phase=rand_phase(), trainable=True),\n",
    "        'wg2':pt.Waveguide(length=0, phase=rand_phase(), trainable=True)\n",
    "    },\n",
    "    connections = [\n",
    "        's1:0:mzi:0',\n",
    "        's2:0:mzi:3',\n",
    "        'wg1:0:mzi:1',\n",
    "        'wg2:0:mzi:2',\n",
    "        'wg1:1:d1:0',\n",
    "        'wg2:1:d2:0',\n",
    "    ]\n",
    ").to(DEVICE).initialize()"
   ]
  },
  {
   "cell_type": "markdown",
   "metadata": {},
   "source": [
    "### Check unitarity"
   ]
  },
  {
   "cell_type": "markdown",
   "metadata": {},
   "source": [
    "To see which unitary matrix the network represents, we search for the result of the propagation of an identity matrix through the network. The power flag was set to false, as we are interested in the full complex output of the system. To show that this matrix is indeed unitary, we multiply with its conjugate transpose:"
   ]
  },
  {
   "cell_type": "code",
   "execution_count": null,
   "metadata": {},
   "outputs": [],
   "source": [
    "def check_unitarity(nw):\n",
    "    matrix = tensor(np.eye(nw.num_sources) + 0j)\n",
    "    result = array(nw(matrix))\n",
    "    print(result@result.T.conj())\n",
    "\n",
    "check_unitarity(nw2x2)"
   ]
  },
  {
   "cell_type": "markdown",
   "metadata": {},
   "source": [
    "### Check Universality"
   ]
  },
  {
   "cell_type": "markdown",
   "metadata": {},
   "source": [
    "However, it would be more interesting if we can show that this network can act like *any* unitary matrix. We will now train the network to be equal to another unitary matrix by using the unitary property $U\\cdot U^\\dagger=I$: we will train the network to obtain $I$ with $U_0^\\dagger$ as input."
   ]
  },
  {
   "cell_type": "code",
   "execution_count": null,
   "metadata": {},
   "outputs": [],
   "source": [
    "def check_universality(nw, num_epochs=500, lr=0.1):\n",
    "    matrix_to_approximate = unitary_matrix(nw.num_sources, nw.num_sources)\n",
    "    matrix_input = tensor(matrix_to_approximate.T.conj().copy())\n",
    "    eye = tensor(np.eye(nw.num_sources) + 0j)\n",
    "    optimizer = torch.optim.Adam(nw.parameters(), lr=lr)\n",
    "    lossfunc = torch.nn.MSELoss()\n",
    "    epochs = trange(num_epochs)\n",
    "    for i in epochs:\n",
    "        optimizer.zero_grad()\n",
    "        result = nw(matrix_input)\n",
    "        loss = lossfunc(result, eye)\n",
    "        loss.backward()\n",
    "        optimizer.step()\n",
    "        epochs.set_postfix(loss=f'{loss.item():.7f}')\n",
    "        if loss.item() < 1e-6:\n",
    "            break\n",
    "\n",
    "    matrix_approximated = array(nw(eye))\n",
    "    print(matrix_approximated)\n",
    "    print(matrix_to_approximate)\n",
    "\n",
    "check_universality(nw2x2)"
   ]
  },
  {
   "cell_type": "markdown",
   "metadata": {},
   "source": [
    "## 3x3 Unitary Matrix (Reck)"
   ]
  },
  {
   "cell_type": "code",
   "execution_count": null,
   "metadata": {},
   "outputs": [],
   "source": [
    "reck3x3 = Network(\n",
    "    components = {\n",
    "        's1':pt.Source(),\n",
    "        's2':pt.Source(),\n",
    "        's3':pt.Source(),\n",
    "        'd1':pt.Detector(),\n",
    "        'd2':pt.Detector(),\n",
    "        'd3':pt.Detector(),\n",
    "        'mzi1':pt.Mzi(length=0, phi=rand_phase(), theta=rand_phase(), trainable=True),\n",
    "        'mzi2':pt.Mzi(length=0, phi=rand_phase(), theta=rand_phase(), trainable=True),\n",
    "        'mzi3':pt.Mzi(length=0, phi=rand_phase(), theta=rand_phase(), trainable=True),\n",
    "        'wg1':pt.Waveguide(length=0, phase=rand_phase(), trainable=True),\n",
    "        'wg2':pt.Waveguide(length=0, phase=rand_phase(), trainable=True),\n",
    "        'wg3':pt.Waveguide(length=0, phase=rand_phase(), trainable=True),\n",
    "    },\n",
    "    connections = [\n",
    "        's1:0:mzi1:0',\n",
    "        's2:0:mzi1:3',\n",
    "        's3:0:mzi2:3',\n",
    "        'mzi1:1:mzi3:0',\n",
    "        'mzi1:2:mzi2:0',\n",
    "        'mzi2:1:mzi3:3',\n",
    "        'mzi3:1:wg1:0',\n",
    "        'mzi3:2:wg2:0',\n",
    "        'mzi2:2:wg3:0',\n",
    "        'wg1:1:d1:0',\n",
    "        'wg2:1:d2:0',\n",
    "        'wg3:1:d3:0',\n",
    "    ]\n",
    ").to(DEVICE).initialize()"
   ]
  },
  {
   "cell_type": "markdown",
   "metadata": {},
   "source": [
    "### Check Unitarity"
   ]
  },
  {
   "cell_type": "code",
   "execution_count": null,
   "metadata": {},
   "outputs": [],
   "source": [
    "check_unitarity(reck3x3)"
   ]
  },
  {
   "cell_type": "markdown",
   "metadata": {},
   "source": [
    "### Check Universality"
   ]
  },
  {
   "cell_type": "code",
   "execution_count": null,
   "metadata": {},
   "outputs": [],
   "source": [
    "check_universality(reck3x3)"
   ]
  },
  {
   "cell_type": "markdown",
   "metadata": {},
   "source": [
    "## 3x3 Unitary Matrix (Clements)"
   ]
  },
  {
   "cell_type": "code",
   "execution_count": null,
   "metadata": {},
   "outputs": [],
   "source": [
    "clem3x3 = Network(\n",
    "    components = {\n",
    "        's1':pt.Source(),\n",
    "        's2':pt.Source(),\n",
    "        's3':pt.Source(),\n",
    "        'd1':pt.Detector(),\n",
    "        'd2':pt.Detector(),\n",
    "        'd3':pt.Detector(),\n",
    "        'mzi1':pt.Mzi(length=0, phi=rand_phase(), theta=rand_phase(), trainable=True),\n",
    "        'mzi2':pt.Mzi(length=0, phi=rand_phase(), theta=rand_phase(), trainable=True),\n",
    "        'mzi3':pt.Mzi(length=0, phi=rand_phase(), theta=rand_phase(), trainable=True),\n",
    "        'wg1':pt.Waveguide(length=0, phase=rand_phase(), trainable=True),\n",
    "        'wg2':pt.Waveguide(length=0, phase=rand_phase(), trainable=True),\n",
    "        'wg3':pt.Waveguide(length=0, phase=rand_phase(), trainable=True),\n",
    "    },\n",
    "    connections = [\n",
    "        's1:0:mzi1:0',\n",
    "        's2:0:mzi1:3',\n",
    "        's3:0:mzi2:3',\n",
    "        'mzi1:1:mzi3:0',\n",
    "        'mzi1:2:mzi2:0',\n",
    "        'mzi2:1:mzi3:3',\n",
    "        'mzi3:1:wg1:0',\n",
    "        'mzi3:2:wg2:0',\n",
    "        'mzi2:2:wg3:0',\n",
    "        'wg1:1:d1:0',\n",
    "        'wg2:1:d2:0',\n",
    "        'wg3:1:d3:0',\n",
    "    ]\n",
    ").to(DEVICE).initialize()"
   ]
  },
  {
   "cell_type": "markdown",
   "metadata": {},
   "source": [
    "### Check Unitarity"
   ]
  },
  {
   "cell_type": "code",
   "execution_count": null,
   "metadata": {},
   "outputs": [],
   "source": [
    "check_unitarity(clem3x3)"
   ]
  },
  {
   "cell_type": "markdown",
   "metadata": {},
   "source": [
    "### Check Universality"
   ]
  },
  {
   "cell_type": "code",
   "execution_count": null,
   "metadata": {},
   "outputs": [],
   "source": [
    "check_universality(clem3x3, num_epochs=1000)"
   ]
  },
  {
   "cell_type": "markdown",
   "metadata": {},
   "source": [
    "## NxN Unitary Matrix (Reck)"
   ]
  },
  {
   "cell_type": "markdown",
   "metadata": {},
   "source": [
    "Creating those networks is quite cumbersome. However they are also implemented by photontorch, which then handles the creation of the networks:"
   ]
  },
  {
   "cell_type": "code",
   "execution_count": null,
   "metadata": {},
   "outputs": [],
   "source": [
    "reck5x5 = pt.ReckNxN(N=5).to(DEVICE).terminate().initialize()\n",
    "# quick monkeypatch to have the same behavior as the classes defined above\n",
    "reck5x5.__class__ = Network"
   ]
  },
  {
   "cell_type": "markdown",
   "metadata": {},
   "source": [
    "### Check Unitarity"
   ]
  },
  {
   "cell_type": "code",
   "execution_count": null,
   "metadata": {},
   "outputs": [],
   "source": [
    "check_unitarity(reck5x5)"
   ]
  },
  {
   "cell_type": "markdown",
   "metadata": {},
   "source": [
    "### Check Universality"
   ]
  },
  {
   "cell_type": "code",
   "execution_count": null,
   "metadata": {},
   "outputs": [],
   "source": [
    "check_universality(reck5x5)"
   ]
  },
  {
   "cell_type": "markdown",
   "metadata": {},
   "source": [
    "## NxN Unitary Matrix (Clements)"
   ]
  },
  {
   "cell_type": "code",
   "execution_count": null,
   "metadata": {},
   "outputs": [],
   "source": [
    "clem5x5 = pt.ClementsNxN(N=5).to(DEVICE).terminate().initialize()\n",
    "# quick monkeypatch to have the same behavior as the classes defined above\n",
    "clem5x5.__class__ = Network"
   ]
  },
  {
   "cell_type": "markdown",
   "metadata": {},
   "source": [
    "### Check Unitarity"
   ]
  },
  {
   "cell_type": "code",
   "execution_count": null,
   "metadata": {},
   "outputs": [],
   "source": [
    "check_unitarity(clem5x5)"
   ]
  },
  {
   "cell_type": "markdown",
   "metadata": {},
   "source": [
    "### Check Universality"
   ]
  },
  {
   "cell_type": "code",
   "execution_count": null,
   "metadata": {},
   "outputs": [],
   "source": [
    "check_universality(clem5x5, num_epochs=1000)"
   ]
  },
  {
   "cell_type": "code",
   "execution_count": null,
   "metadata": {},
   "outputs": [],
   "source": [
    "reck5x5._delays"
   ]
  }
 ],
 "metadata": {
  "kernelspec": {
   "display_name": "Python 3",
   "language": "python",
   "name": "python3"
  },
  "language_info": {
   "codemirror_mode": {
    "name": "ipython",
    "version": 3
   },
   "file_extension": ".py",
   "mimetype": "text/x-python",
   "name": "python",
   "nbconvert_exporter": "python",
   "pygments_lexer": "ipython3",
   "version": "3.7.0"
  }
 },
 "nbformat": 4,
 "nbformat_minor": 2
}
