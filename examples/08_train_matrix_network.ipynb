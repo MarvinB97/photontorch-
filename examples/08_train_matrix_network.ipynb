{
 "cells": [
  {
   "cell_type": "markdown",
   "metadata": {},
   "source": [
    "# Matrix Network"
   ]
  },
  {
   "cell_type": "markdown",
   "metadata": {},
   "source": [
    "## Imports"
   ]
  },
  {
   "cell_type": "code",
   "execution_count": null,
   "metadata": {},
   "outputs": [],
   "source": [
    "# Photontorch\n",
    "import photontorch as pt\n",
    "\n",
    "# Python\n",
    "import tqdm\n",
    "import torch\n",
    "import numpy as np\n",
    "import matplotlib.pyplot as plt\n",
    "\n",
    "# numpy settings\n",
    "np.random.seed(6) # seed for random numbers\n",
    "np.set_printoptions(precision=2, suppress=True) # show less numbers while printing numpy arrays"
   ]
  },
  {
   "cell_type": "markdown",
   "metadata": {},
   "source": [
    "## Schematic\n",
    "![Unitary Matrix Paper](images/clements.jpeg)\n",
    "\n",
    "(a) Reck Design\n",
    "\n",
    "(b) Clements Design"
   ]
  },
  {
   "cell_type": "markdown",
   "metadata": {},
   "source": [
    "## Simulation and Design Parameters"
   ]
  },
  {
   "cell_type": "markdown",
   "metadata": {},
   "source": [
    "Here we will use the matrix network *with* delays."
   ]
  },
  {
   "cell_type": "code",
   "execution_count": null,
   "metadata": {},
   "outputs": [],
   "source": [
    "length = 25e-6 #[m]\n",
    "transmission = 0.5 #[]\n",
    "neff = 2.86\n",
    "env = pt.Environment(\n",
    "    t_start = 0,\n",
    "    t_end = 2000e-14,\n",
    "    dt = 1e-14,\n",
    "    wl = 1.55e-6,\n",
    ")\n",
    "pt.set_environment(env)"
   ]
  },
  {
   "cell_type": "markdown",
   "metadata": {},
   "source": [
    "## (a) Reck Design"
   ]
  },
  {
   "cell_type": "code",
   "execution_count": null,
   "metadata": {},
   "outputs": [],
   "source": [
    "nw = pt.ReckMxN(M=4, N=2, length=1e-4).terminate()\n",
    "source = np.ones(2)/np.sqrt(2) # 2 sources -> Make total input power equal to 1"
   ]
  },
  {
   "cell_type": "markdown",
   "metadata": {},
   "source": [
    "### Simulation"
   ]
  },
  {
   "cell_type": "code",
   "execution_count": null,
   "metadata": {},
   "outputs": [],
   "source": [
    "detected_time = nw(source)\n",
    "nw.plot(detected_time[:,0,:,0]); # plot first and only batch"
   ]
  },
  {
   "cell_type": "markdown",
   "metadata": {},
   "source": [
    "### Total power recovered:"
   ]
  },
  {
   "cell_type": "code",
   "execution_count": null,
   "metadata": {},
   "outputs": [],
   "source": [
    "detected_time[-1,0,:,0].sum()"
   ]
  },
  {
   "cell_type": "markdown",
   "metadata": {},
   "source": [
    "### Optimizing the coupling"
   ]
  },
  {
   "cell_type": "markdown",
   "metadata": {},
   "source": [
    "The goal is to optimize the coupling of the network such that we have the same output at the 4 detectors with an as high as possible amplitude (ideally, higher than in the equal coupling case)."
   ]
  },
  {
   "cell_type": "code",
   "execution_count": null,
   "metadata": {},
   "outputs": [],
   "source": [
    "def train_for_same_output(nw, num_epochs=50, learning_rate=0.1):\n",
    "    # Running this cell takes quite long\n",
    "    target = torch.tensor([0.25,0.25,0.25,0.25], device=nw.device)\n",
    "    lossfunc = torch.nn.MSELoss()\n",
    "    optimizer = torch.optim.Adam(nw.parameters(), lr=learning_rate)\n",
    "    with pt.Environment(wl=1.55e-6, t_start=0, t_end=5000e-15, dt=25e-15, enable_grad=True):\n",
    "        for epoch in tqdm.trange(num_epochs):\n",
    "            det_train = nw(source)[-1,0,:,0] # get first and only batch\n",
    "            loss = lossfunc(det_train, target)\n",
    "            loss.backward()\n",
    "            optimizer.step()\n",
    "            del det_train, loss # Free up memory (mostly important when working on GPU)\n",
    "        \n",
    "train_for_same_output(nw)"
   ]
  },
  {
   "cell_type": "markdown",
   "metadata": {},
   "source": [
    "### Final Simulation"
   ]
  },
  {
   "cell_type": "code",
   "execution_count": null,
   "metadata": {},
   "outputs": [],
   "source": [
    "%time det_train = nw(source)\n",
    "nw.plot(det_train[:,0,:,0]); # plot first and only batch"
   ]
  },
  {
   "cell_type": "markdown",
   "metadata": {},
   "source": [
    "Note that in the Reck network, signals arrive at different times."
   ]
  },
  {
   "cell_type": "markdown",
   "metadata": {},
   "source": [
    "### Total power recovered"
   ]
  },
  {
   "cell_type": "code",
   "execution_count": null,
   "metadata": {},
   "outputs": [],
   "source": [
    "det_train[-1,0,:,0].sum()"
   ]
  },
  {
   "cell_type": "markdown",
   "metadata": {},
   "source": [
    "## (b) Clements Design"
   ]
  },
  {
   "cell_type": "code",
   "execution_count": null,
   "metadata": {},
   "outputs": [],
   "source": [
    "nw = pt.ClementsNxN(N=4, length=1e-4).terminate(term=[\n",
    "    pt.Source('s0'),\n",
    "    pt.Source('s1'),\n",
    "    pt.Term('t0'),\n",
    "    pt.Term('t1'),\n",
    "    pt.Detector('d0'),\n",
    "    pt.Detector('d1'),\n",
    "    pt.Detector('d2'),\n",
    "    pt.Detector('d3'),\n",
    "])\n",
    "source = np.ones(2)/np.sqrt(2) # 2 sources -> Make total input power equal to 1"
   ]
  },
  {
   "cell_type": "markdown",
   "metadata": {},
   "source": [
    "### Simulation"
   ]
  },
  {
   "cell_type": "code",
   "execution_count": null,
   "metadata": {},
   "outputs": [],
   "source": [
    "detected_time = nw(source)\n",
    "nw.plot(detected_time[:,0,:,0]); # plot first and only batch"
   ]
  },
  {
   "cell_type": "markdown",
   "metadata": {},
   "source": [
    "### Total power recovered:"
   ]
  },
  {
   "cell_type": "code",
   "execution_count": null,
   "metadata": {},
   "outputs": [],
   "source": [
    "detected_time[-1,0,:,0].sum()"
   ]
  },
  {
   "cell_type": "markdown",
   "metadata": {},
   "source": [
    "### Optimizing the coupling"
   ]
  },
  {
   "cell_type": "code",
   "execution_count": null,
   "metadata": {},
   "outputs": [],
   "source": [
    "def train_for_same_output(nw, num_epochs=50, learning_rate=0.1):\n",
    "    # Running this cell takes quite long\n",
    "    target = torch.tensor([0.25,0.25,0.25,0.25], device=nw.device)\n",
    "    lossfunc = torch.nn.MSELoss()\n",
    "    optimizer = torch.optim.Adam(nw.parameters(), lr=learning_rate)\n",
    "    with pt.Environment(wl=1.55e-6, t_start=0, t_end=5000e-15, dt=25e-15, enable_grad=True):\n",
    "        for epoch in tqdm.trange(num_epochs):\n",
    "            det_train = nw(source)[-1,0,:,0] # get first and only batch\n",
    "            loss = lossfunc(det_train, target)\n",
    "            loss.backward()\n",
    "            optimizer.step()\n",
    "            del det_train, loss # Free up memory (mostly important when working on GPU)\n",
    "        \n",
    "train_for_same_output(nw)"
   ]
  },
  {
   "cell_type": "markdown",
   "metadata": {},
   "source": [
    "### Final Simulation"
   ]
  },
  {
   "cell_type": "code",
   "execution_count": null,
   "metadata": {},
   "outputs": [],
   "source": [
    "%time det_train = nw(source)\n",
    "nw.plot(det_train[:,0,:,0]); # plot first and only batch"
   ]
  },
  {
   "cell_type": "markdown",
   "metadata": {},
   "source": [
    "Note that in the Clements network, all signals arrive at the same time at the detector."
   ]
  }
 ],
 "metadata": {
  "kernelspec": {
   "display_name": "Python 3",
   "language": "python",
   "name": "python3"
  },
  "language_info": {
   "codemirror_mode": {
    "name": "ipython",
    "version": 3
   },
   "file_extension": ".py",
   "mimetype": "text/x-python",
   "name": "python",
   "nbconvert_exporter": "python",
   "pygments_lexer": "ipython3",
   "version": "3.7.0"
  }
 },
 "nbformat": 4,
 "nbformat_minor": 2
}
