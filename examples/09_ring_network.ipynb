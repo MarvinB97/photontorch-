{
 "cells": [
  {
   "cell_type": "markdown",
   "metadata": {},
   "source": [
    "# Ring Network "
   ]
  },
  {
   "cell_type": "markdown",
   "metadata": {},
   "source": [
    "## Imports"
   ]
  },
  {
   "cell_type": "code",
   "execution_count": null,
   "metadata": {},
   "outputs": [],
   "source": [
    "# Standard Library\n",
    "from collections import OrderedDict\n",
    "from copy import copy\n",
    "\n",
    "# Photontorch\n",
    "import photontorch as pt\n",
    "\n",
    "# Python\n",
    "import tqdm\n",
    "import torch\n",
    "import numpy as np\n",
    "import matplotlib.pyplot as plt\n",
    "\n",
    "# numpy settings\n",
    "np.random.seed(6) # seed for random numbers\n",
    "np.set_printoptions(precision=2, suppress=True) # show less numbers while printing numpy arrays"
   ]
  },
  {
   "cell_type": "markdown",
   "metadata": {},
   "source": [
    "## Simulation Environments"
   ]
  },
  {
   "cell_type": "code",
   "execution_count": null,
   "metadata": {},
   "outputs": [],
   "source": [
    "env = pt.Environment(\n",
    "    wls=np.linspace(1.5e-6,1.6e-6,10001),\n",
    "    frequency_domain=True\n",
    ")\n",
    "pt.set_environment(env)"
   ]
  },
  {
   "cell_type": "markdown",
   "metadata": {},
   "source": [
    "## Ring 'Molecule' Network"
   ]
  },
  {
   "cell_type": "markdown",
   "metadata": {},
   "source": [
    "A ring 'molecule' is a network of ring resonators, where the ring resonators are the 'atoms'. The simplest ring 'molecule' consists of a single 'atom' (ring resonator):"
   ]
  },
  {
   "cell_type": "markdown",
   "metadata": {},
   "source": [
    "### Single Ring"
   ]
  },
  {
   "cell_type": "code",
   "execution_count": null,
   "metadata": {},
   "outputs": [],
   "source": [
    "ring = pt.RingMolecule(\n",
    "    map='o',\n",
    "    rings={\n",
    "        'o':pt.Waveguide(length=2*np.pi*10e-6, neff=2.86),\n",
    "    },\n",
    ")"
   ]
  },
  {
   "cell_type": "markdown",
   "metadata": {},
   "source": [
    "Creating a ring molecule always has the same form. You specify a string `map`, signifying the locations of the rings. Each character in the ring corresponds to a different kind of ring. In our case, the map contains a single character, since we only created a single ring.\n",
    "To know the properties of each ring, the `RingMolecule` constructor needs a second argument: `rings`, where the waveguide making up the ring is specified."
   ]
  },
  {
   "cell_type": "markdown",
   "metadata": {},
   "source": [
    "This single ring example is not very useful, because it has no open ports to connect to. For this, you can use the `@` character in the string map. This specifies where to 'cut open' the ring, resulting in two new ports:"
   ]
  },
  {
   "cell_type": "code",
   "execution_count": null,
   "metadata": {},
   "outputs": [],
   "source": [
    "wg = pt.RingMolecule(\n",
    "    map='@o',\n",
    "    rings={\n",
    "        'o':pt.Waveguide(length=2*np.pi*10e-6, neff=2.86),\n",
    "    }\n",
    ")"
   ]
  },
  {
   "cell_type": "markdown",
   "metadata": {},
   "source": [
    "note that, because the ring is 'cut open' it will now just act as a normal waveguide! We will prove this, by terminating the wg with a source and a detector."
   ]
  },
  {
   "cell_type": "code",
   "execution_count": null,
   "metadata": {},
   "outputs": [],
   "source": [
    "nw = wg.terminate([pt.Source('inp'), pt.Detector('outp')])\n",
    "detected = nw(source=1, power=False)[:,0,:,0,0].detach().numpy()\n",
    "detected_power = detected[0]**2 + detected[1]**2\n",
    "detected_phase = np.arctan2(detected[1], detected[0])\n",
    "\n",
    "# visualize\n",
    "p1, = nw.plot(detected_power)\n",
    "plt.ylim(0,1.1)\n",
    "plt.gca().twinx()\n",
    "p2, = nw.plot(detected_phase, color='C1', alpha=0.5)\n",
    "plt.ylabel('phase [rad]')\n",
    "plt.figlegend([p1,p2], ['power','phase'], ncol=2)\n",
    "plt.show()"
   ]
  },
  {
   "cell_type": "markdown",
   "metadata": {},
   "source": [
    "## All Pass Filter"
   ]
  },
  {
   "cell_type": "markdown",
   "metadata": {},
   "source": [
    "So how do you make an all-pass filter then? Well, you use two rings, and cut one open:"
   ]
  },
  {
   "cell_type": "code",
   "execution_count": null,
   "metadata": {},
   "outputs": [],
   "source": [
    "allpass = pt.RingMolecule(\n",
    "    map='@oO',\n",
    "    rings={\n",
    "        'O':pt.Waveguide(2*np.pi*10e-6, loss=800, neff=2.86),\n",
    "        'o':pt.Waveguide(0, loss=0, neff=0),\n",
    "    },\n",
    "    coupling={\n",
    "        'oO':0.2\n",
    "    }\n",
    ").terminate([pt.Source('inp'), pt.Detector('pass')])"
   ]
  },
  {
   "cell_type": "markdown",
   "metadata": {},
   "source": [
    "Note that you need another argument during the costruction of the allpass filter: `coupling`. This argument should be a dictionary specifying all the different couplings between the different ring types."
   ]
  },
  {
   "cell_type": "code",
   "execution_count": null,
   "metadata": {},
   "outputs": [],
   "source": [
    "detected = allpass(source=1, power=False)[:,0,:,0,0].detach().numpy()\n",
    "detected_power = detected[0]**2 + detected[1]**2\n",
    "detected_phase = np.arctan2(detected[1], detected[0])\n",
    "\n",
    "# visualize\n",
    "p1, = allpass.plot(detected_power)\n",
    "plt.ylim(0,1.1)\n",
    "plt.gca().twinx()\n",
    "p2, = allpass.plot(detected_phase, color='C1', alpha=0.5)\n",
    "plt.ylabel('phase [rad]')\n",
    "plt.figlegend([p1,p2], ['power','phase'], ncol=2)\n",
    "plt.show()"
   ]
  },
  {
   "cell_type": "markdown",
   "metadata": {},
   "source": [
    "## Multiring All Pass Filter"
   ]
  },
  {
   "cell_type": "code",
   "execution_count": null,
   "metadata": {},
   "outputs": [],
   "source": [
    "allpass = pt.RingMolecule(\n",
    "    map='@oOOOOO',\n",
    "    rings={\n",
    "        'O':pt.Waveguide(2*np.pi*10e-6, loss=800, neff=2.86),\n",
    "        'o':pt.Waveguide(0, loss=0, neff=0),\n",
    "    },\n",
    "    coupling={\n",
    "        'oO':0.005,\n",
    "        'OO':0.005,\n",
    "    }\n",
    ").terminate([pt.Source('inp'), pt.Detector('pass')])"
   ]
  },
  {
   "cell_type": "code",
   "execution_count": null,
   "metadata": {},
   "outputs": [],
   "source": [
    "detected = allpass(source=1, power=False)[:,0,:,0,0].detach().numpy()\n",
    "detected_power = detected[0]**2 + detected[1]**2\n",
    "detected_phase = np.arctan2(detected[1], detected[0])\n",
    "\n",
    "# visualize\n",
    "p1, = allpass.plot(detected_power)\n",
    "plt.ylim(0.7,1.1)\n",
    "plt.gca().twinx()\n",
    "p2, = allpass.plot(detected_phase, color='C1', alpha=0.5)\n",
    "plt.ylabel('phase [rad]')\n",
    "plt.figlegend([p1,p2], ['power','phase'], ncol=2)\n",
    "plt.show()"
   ]
  },
  {
   "cell_type": "markdown",
   "metadata": {},
   "source": [
    "## Add Drop Filter"
   ]
  },
  {
   "cell_type": "markdown",
   "metadata": {},
   "source": [
    "Similarly, we can create an Add Drop Filter"
   ]
  },
  {
   "cell_type": "code",
   "execution_count": null,
   "metadata": {},
   "outputs": [],
   "source": [
    "adddrop = pt.RingMolecule(\n",
    "    map='@oOo@',\n",
    "    rings={\n",
    "        'O':pt.Waveguide(length=2*np.pi*10e-6, loss=800, neff=2.86),\n",
    "        'o':pt.Waveguide(length=0),\n",
    "    },\n",
    "    coupling=0.2,\n",
    ").terminate([pt.Source('inp'),  pt.Detector('pass'), pt.Detector('drop'), pt.Detector('add')])"
   ]
  },
  {
   "cell_type": "code",
   "execution_count": null,
   "metadata": {},
   "outputs": [],
   "source": [
    "detected = adddrop(source=1, power=False)[:,0,:,0,0].detach().numpy()\n",
    "detected_power = detected[0]**2 + detected[1]**2\n",
    "detected_phase = np.arctan2(detected[1], detected[0])\n",
    "\n",
    "# visualize\n",
    "p1, = adddrop.plot(detected_power)\n",
    "plt.ylim(0,1.1)\n",
    "plt.gca().twinx()\n",
    "p2, = adddrop.plot(detected_phase, color='C1', alpha=0.5)\n",
    "plt.ylabel('phase [rad]')\n",
    "plt.figlegend([p1,p2], ['power','phase'], ncol=2)\n",
    "plt.show()"
   ]
  },
  {
   "cell_type": "markdown",
   "metadata": {},
   "source": [
    "## Ring-Loaded Add-Drop Filter\n",
    "\n",
    "An add drop filter with extra rings in the following pattern:\n",
    "\n",
    "\n",
    "```\n",
    " O\n",
    "OoO\n",
    " O\n",
    "```\n",
    "\n",
    "with `o` a defect ring with smaller radius than `O`"
   ]
  },
  {
   "cell_type": "code",
   "execution_count": null,
   "metadata": {},
   "outputs": [],
   "source": [
    "period=20e-6\n",
    "width=0.45e-6\n",
    "gap=0.26e-6\n",
    "nw = pt.RingMolecule(\n",
    "    map='''...O...\n",
    "           @xOoOx@\n",
    "           ...O...''',\n",
    "    rings={\n",
    "        'O':pt.Waveguide(length=np.pi*(period-gap-width), loss=1000, neff=2.4, ng=4.3),\n",
    "        'o':pt.Waveguide(length=np.pi*(period-gap-width-0.01e-6), loss=900, neff=2.43, ng=4.2),\n",
    "        'x':pt.Waveguide(length=0),\n",
    "    },\n",
    "    coupling={\n",
    "        'xO':0.05,\n",
    "        'OO':0.05,\n",
    "        'oO':0.04,\n",
    "        'oo':0.038,\n",
    "    },\n",
    ").terminate([pt.Source('inp'), pt.Detector('pass'), pt.Detector('drop'), pt.Detector('add')])\n",
    "\n",
    "\n",
    "# visualize\n",
    "detected = nw(source=1)\n",
    "nw.plot(torch.sqrt(detected))\n",
    "plt.show()"
   ]
  }
 ],
 "metadata": {
  "kernelspec": {
   "display_name": "Python 3",
   "language": "python",
   "name": "python3"
  },
  "language_info": {
   "codemirror_mode": {
    "name": "ipython",
    "version": 3
   },
   "file_extension": ".py",
   "mimetype": "text/x-python",
   "name": "python",
   "nbconvert_exporter": "python",
   "pygments_lexer": "ipython3",
   "version": "3.7.0"
  }
 },
 "nbformat": 4,
 "nbformat_minor": 2
}
